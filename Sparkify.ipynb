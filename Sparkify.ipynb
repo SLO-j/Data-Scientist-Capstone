{
 "cells": [
  {
   "cell_type": "markdown",
   "metadata": {},
   "source": [
    "# Sparkify Project Workspace\n",
    "This workspace contains a tiny subset (128MB) of the full dataset available (12GB). Feel free to use this workspace to build your project, or to explore a smaller subset with Spark before deploying your cluster on the cloud. Instructions for setting up your Spark cluster is included in the last lesson of the Extracurricular Spark Course content.\n",
    "\n",
    "You can follow the steps below to guide your data analysis and model building portion of this project."
   ]
  },
  {
   "cell_type": "code",
   "execution_count": 1,
   "metadata": {},
   "outputs": [],
   "source": [
    "# import libraries\n",
    "import matplotlib.pyplot as plt\n",
    "import pandas as pd\n",
    "from pyspark.sql import SparkSession\n",
    "from pyspark.sql.functions import split, udf, isnull, min, max, sum as Fsum, avg, col, concat, desc, explode, lit, count \n",
    "from pyspark.sql.types import IntegerType, DateType\n",
    "import datetime\n",
    "import seaborn as sns\n",
    "from pyspark.ml import Pipeline\n",
    "from pyspark.ml.classification import  RandomForestClassifier,  NaiveBayes, LogisticRegression, DecisionTreeClassifier\n",
    "from pyspark.ml.evaluation import MulticlassClassificationEvaluator\n",
    "from pyspark.ml.feature import  StandardScaler, StopWordsRemover, CountVectorizer, IDF, VectorAssembler, Normalizer, PCA, RegexTokenizer, StringIndexer\n",
    "from pyspark.ml.regression import LinearRegression\n",
    "from pyspark.ml.tuning import  ParamGridBuilder, CrossValidator\n",
    "import re"
   ]
  },
  {
   "cell_type": "code",
   "execution_count": 2,
   "metadata": {},
   "outputs": [],
   "source": [
    "# create a Spark session\n",
    "build = SparkSession.builder\n",
    "localsSpark = build.master(\"local\")\n",
    "createSpark = localsSpark.appName(\"Spark\")\n",
    "spark = createSpark.getOrCreate()"
   ]
  },
  {
   "cell_type": "markdown",
   "metadata": {},
   "source": [
    "# Load and Clean Dataset\n",
    "In this workspace, the mini-dataset file is `mini_sparkify_event_data.json`. Load and clean the dataset, checking for invalid or missing data - for example, records without userids or sessionids. "
   ]
  },
  {
   "cell_type": "code",
   "execution_count": 3,
   "metadata": {},
   "outputs": [],
   "source": [
    "# load mini_sparkify_event_data (json file) and read it\n",
    "sparkDf = spark.read.json('mini_sparkify_event_data.json')"
   ]
  },
  {
   "cell_type": "markdown",
   "metadata": {},
   "source": [
    "### Checking dataset"
   ]
  },
  {
   "cell_type": "markdown",
   "metadata": {},
   "source": [
    "#### Details of dataset"
   ]
  },
  {
   "cell_type": "code",
   "execution_count": 4,
   "metadata": {},
   "outputs": [
    {
     "data": {
      "text/plain": [
       "DataFrame[summary: string, artist: string, auth: string, firstName: string, gender: string, itemInSession: string, lastName: string, length: string, level: string, location: string, method: string, page: string, registration: string, sessionId: string, song: string, status: string, ts: string, userAgent: string, userId: string]"
      ]
     },
     "execution_count": 4,
     "metadata": {},
     "output_type": "execute_result"
    }
   ],
   "source": [
    "# general details\n",
    "sparkDf.describe()"
   ]
  },
  {
   "cell_type": "code",
   "execution_count": 5,
   "metadata": {},
   "outputs": [
    {
     "data": {
      "text/plain": [
       "[Row(artist='Martha Tilston', auth='Logged In', firstName='Colin', gender='M', itemInSession=50, lastName='Freeman', length=277.89016, level='paid', location='Bakersfield, CA', method='PUT', page='NextSong', registration=1538173362000, sessionId=29, song='Rockpools', status=200, ts=1538352117000, userAgent='Mozilla/5.0 (Windows NT 6.1; WOW64; rv:31.0) Gecko/20100101 Firefox/31.0', userId='30'),\n",
       " Row(artist='Five Iron Frenzy', auth='Logged In', firstName='Micah', gender='M', itemInSession=79, lastName='Long', length=236.09424, level='free', location='Boston-Cambridge-Newton, MA-NH', method='PUT', page='NextSong', registration=1538331630000, sessionId=8, song='Canada', status=200, ts=1538352180000, userAgent='\"Mozilla/5.0 (Windows NT 6.1; WOW64) AppleWebKit/537.36 (KHTML, like Gecko) Chrome/37.0.2062.103 Safari/537.36\"', userId='9'),\n",
       " Row(artist='Adam Lambert', auth='Logged In', firstName='Colin', gender='M', itemInSession=51, lastName='Freeman', length=282.8273, level='paid', location='Bakersfield, CA', method='PUT', page='NextSong', registration=1538173362000, sessionId=29, song='Time For Miracles', status=200, ts=1538352394000, userAgent='Mozilla/5.0 (Windows NT 6.1; WOW64; rv:31.0) Gecko/20100101 Firefox/31.0', userId='30'),\n",
       " Row(artist='Enigma', auth='Logged In', firstName='Micah', gender='M', itemInSession=80, lastName='Long', length=262.71302, level='free', location='Boston-Cambridge-Newton, MA-NH', method='PUT', page='NextSong', registration=1538331630000, sessionId=8, song='Knocking On Forbidden Doors', status=200, ts=1538352416000, userAgent='\"Mozilla/5.0 (Windows NT 6.1; WOW64) AppleWebKit/537.36 (KHTML, like Gecko) Chrome/37.0.2062.103 Safari/537.36\"', userId='9'),\n",
       " Row(artist='Daft Punk', auth='Logged In', firstName='Colin', gender='M', itemInSession=52, lastName='Freeman', length=223.60771, level='paid', location='Bakersfield, CA', method='PUT', page='NextSong', registration=1538173362000, sessionId=29, song='Harder Better Faster Stronger', status=200, ts=1538352676000, userAgent='Mozilla/5.0 (Windows NT 6.1; WOW64; rv:31.0) Gecko/20100101 Firefox/31.0', userId='30')]"
      ]
     },
     "execution_count": 5,
     "metadata": {},
     "output_type": "execute_result"
    }
   ],
   "source": [
    "# top five rows\n",
    "sparkDf.head(5)"
   ]
  },
  {
   "cell_type": "code",
   "execution_count": 6,
   "metadata": {},
   "outputs": [],
   "source": [
    "# last five rows\n",
    "#sparkDf.tail(5)"
   ]
  },
  {
   "cell_type": "code",
   "execution_count": 7,
   "metadata": {},
   "outputs": [
    {
     "name": "stdout",
     "output_type": "stream",
     "text": [
      "root\n",
      " |-- artist: string (nullable = true)\n",
      " |-- auth: string (nullable = true)\n",
      " |-- firstName: string (nullable = true)\n",
      " |-- gender: string (nullable = true)\n",
      " |-- itemInSession: long (nullable = true)\n",
      " |-- lastName: string (nullable = true)\n",
      " |-- length: double (nullable = true)\n",
      " |-- level: string (nullable = true)\n",
      " |-- location: string (nullable = true)\n",
      " |-- method: string (nullable = true)\n",
      " |-- page: string (nullable = true)\n",
      " |-- registration: long (nullable = true)\n",
      " |-- sessionId: long (nullable = true)\n",
      " |-- song: string (nullable = true)\n",
      " |-- status: long (nullable = true)\n",
      " |-- ts: long (nullable = true)\n",
      " |-- userAgent: string (nullable = true)\n",
      " |-- userId: string (nullable = true)\n",
      "\n"
     ]
    }
   ],
   "source": [
    "# prints out the schema in the tree format\n",
    "sparkDf.printSchema()"
   ]
  },
  {
   "cell_type": "markdown",
   "metadata": {},
   "source": [
    "#### Clean the dataset"
   ]
  },
  {
   "cell_type": "code",
   "execution_count": 8,
   "metadata": {},
   "outputs": [],
   "source": [
    "# Delete rows containing missing values and rows that have an empty userid\n",
    "userSet = [\"userId\", \"sessionId\"]\n",
    "sparkDf = sparkDf.dropna(how = \"any\", subset = userSet)\n",
    "id = sparkDf.userId\n",
    "sparkDf = sparkDf.filter(id != \"\")"
   ]
  },
  {
   "cell_type": "markdown",
   "metadata": {},
   "source": [
    "# Exploratory Data Analysis\n",
    "When you're working with the full dataset, perform EDA by loading a small subset of the data and doing basic manipulations within Spark. In this workspace, you are already provided a small subset of data you can explore.\n",
    "\n",
    "### Define Churn\n",
    "\n",
    "Once you've done some preliminary analysis, create a column `Churn` to use as the label for your model. I suggest using the `Cancellation Confirmation` events to define your churn, which happen for both paid and free users. As a bonus task, you can also look into the `Downgrade` events.\n",
    "\n",
    "### Explore Data\n",
    "Once you've defined churn, perform some exploratory data analysis to observe the behavior for users who stayed vs users who churned. You can start by exploring aggregates on these two groups of users, observing how much of a specific action they experienced per a certain time unit or number of songs played."
   ]
  },
  {
   "cell_type": "code",
   "execution_count": 9,
   "metadata": {},
   "outputs": [],
   "source": [
    "# the churn users\n",
    "filteringData = sparkDf.filter(sparkDf.page==\"Cancellation Confirmation\")\n",
    "selectingData = filteringData.select(\"userId\")\n",
    "withoutDuplicate = selectingData.dropDuplicates()\n",
    "data = withoutDuplicate\n",
    "churnData = [x[\"userId\"] for x in data.collect()]\n",
    "isUser = sparkDf.userId.isin(churnData)\n",
    "itsChurn = sparkDf.withColumn(\"churn\",isUser)"
   ]
  },
  {
   "cell_type": "code",
   "execution_count": 10,
   "metadata": {},
   "outputs": [
    {
     "data": {
      "text/plain": [
       "<AxesSubplot:xlabel='churn', ylabel='count'>"
      ]
     },
     "execution_count": 10,
     "metadata": {},
     "output_type": "execute_result"
    },
    {
     "data": {
      "image/png": "[encoded data removed]",
      "text/plain": [
       "<Figure size 720x576 with 1 Axes>"
      ]
     },
     "metadata": {
      "needs_background": "light"
     },
     "output_type": "display_data"
    }
   ],
   "source": [
    "# the users who is Male and churn (M - True) and Male and not churn (M - False)\n",
    "# also who is Famle and churn (F - True) and Famle and not churn (F - False)\n",
    "dropDupDf = itsChurn.dropDuplicates([\"userId\", \"gender\"])\n",
    "churnGenderDf = dropDupDf.groupby([\"churn\", \"gender\"])\n",
    "nbChurnGender = churnGenderDf.count()\n",
    "sChurnGenderDf = nbChurnGender.sort(\"churn\")\n",
    "churnGender = sChurnGenderDf.toPandas()\n",
    "dims = (10, 8)\n",
    "fig, ax = plt.subplots(figsize=dims)\n",
    "sns.barplot(x='churn', y='count',ax=ax, hue='gender', data=churnGender, palette = \"Blues\")"
   ]
  },
  {
   "cell_type": "code",
   "execution_count": 11,
   "metadata": {},
   "outputs": [
    {
     "data": {
      "text/plain": [
       "<AxesSubplot:ylabel='page'>"
      ]
     },
     "execution_count": 11,
     "metadata": {},
     "output_type": "execute_result"
    },
    {
     "data": {
      "image/png": "[encoded data removed]",
      "text/plain": [
       "<Figure size 720x720 with 1 Axes>"
      ]
     },
     "metadata": {
      "needs_background": "light"
     },
     "output_type": "display_data"
    }
   ],
   "source": [
    "# the frequent of churn and not churn\n",
    "check1 = itsChurn.churn==1\n",
    "check0 = itsChurn.churn==0\n",
    "filtData1 = itsChurn.filter(check1)\n",
    "filtData2 = itsChurn.filter(check0)\n",
    "cfiltData1 = filtData1.count()\n",
    "cfiltData2 = filtData2.count()\n",
    "div = cfiltData1/100\n",
    "div2 = cfiltData2/100\n",
    "notNextSong = itsChurn.page!=\"NextSong\"\n",
    "SongPage = filtData1.filter(notNextSong)\n",
    "SongPageGroup = SongPage.groupby([\"page\"])\n",
    "cSongPage = SongPageGroup.count()\n",
    "page = cSongPage[\"count\"]/ div \n",
    "SongPageCol = cSongPage.withColumn(\"churn\",page)\n",
    "cSongPage = SongPageCol.sort(\"page\")\n",
    "SongPageF = itsChurn.filter(check0)\n",
    "SongPageNot = SongPageF.filter(notNextSong)\n",
    "SongPageNotg = SongPageNot.groupby([\"page\"])\n",
    "cSongPageNot = SongPageNotg.count()\n",
    "page2 = cSongPageNot[\"count\"]/div2\n",
    "SongPageNChurn = cSongPageNot.withColumn(\"not churn\", page2)\n",
    "SongPageNChurnS = SongPageNChurn.sort(\"page\")\n",
    "joinDf = cSongPage.join(SongPageNChurnS, \"page\", \"outer\")\n",
    "dropDupDf = joinDf.drop(\"count\")\n",
    "fillDf = dropDupDf.fillna(0)\n",
    "dropDupDf = fillDf.toPandas()\n",
    "dims = (10, 10)\n",
    "fig, ax = plt.subplots(figsize=dims)\n",
    "plt.style.use('fivethirtyeight') \n",
    "dropDupDf.plot(\"page\", kind=\"barh\", ax=ax)"
   ]
  },
  {
   "cell_type": "code",
   "execution_count": 12,
   "metadata": {},
   "outputs": [
    {
     "data": {
      "text/plain": [
       "<AxesSubplot:xlabel='level', ylabel='count'>"
      ]
     },
     "execution_count": 12,
     "metadata": {},
     "output_type": "execute_result"
    },
    {
     "data": {
      "image/png": "[encoded data removed]",
      "text/plain": [
       "<Figure size 720x504 with 1 Axes>"
      ]
     },
     "metadata": {},
     "output_type": "display_data"
    }
   ],
   "source": [
    "# the number of cancellation confirmation for each free and paid users\n",
    "checkPage = itsChurn.page == \"Cancellation Confirmation\"\n",
    "filtPageDf = itsChurn.filter(checkPage)\n",
    "groPageDf = filtPageDf.groupby(\"level\")\n",
    "nbgroPageDf = groPageDf.count()\n",
    "dropDupDf = nbgroPageDf.toPandas()\n",
    "dims = (10, 7)\n",
    "fig, ax = plt.subplots(figsize=dims)\n",
    "plt.style.use('fivethirtyeight') \n",
    "sns.barplot(x=\"level\", y=\"count\", ax=ax, data=dropDupDf)"
   ]
  },
  {
   "cell_type": "code",
   "execution_count": 13,
   "metadata": {},
   "outputs": [
    {
     "name": "stderr",
     "output_type": "stream",
     "text": [
      "D:\\Anaconda3\\lib\\site-packages\\pandas\\plotting\\_matplotlib\\hist.py:412: UserWarning: To output multiple subplots, the figure containing the passed axes is being cleared\n",
      "  axes = _grouped_hist(\n"
     ]
    },
    {
     "data": {
      "text/plain": [
       "[]"
      ]
     },
     "execution_count": 13,
     "metadata": {},
     "output_type": "execute_result"
    },
    {
     "data": {
      "image/png": "[encoded data removed]",
      "text/plain": [
       "<Figure size 864x504 with 2 Axes>"
      ]
     },
     "metadata": {},
     "output_type": "display_data"
    }
   ],
   "source": [
    "isNull = itsChurn.song!='null'\n",
    "get_Song = itsChurn.where(isNull)\n",
    "cSong = get_Song.groupby(['churn','userId'])\n",
    "songs = count(itsChurn.song)\n",
    "songs = songs.alias('SongsPlayed')\n",
    "SongAgr = cSong.agg(songs)\n",
    "SongOr = SongAgr.orderBy('churn').toPandas()\n",
    "dims = (12, 7)\n",
    "fig, ax = plt.subplots(figsize=dims)\n",
    "plt.style.use('fivethirtyeight') \n",
    "SongOr.hist(['SongsPlayed'], ax=ax, by='churn',density=5)\n",
    "plt.plot()"
   ]
  },
  {
   "cell_type": "code",
   "execution_count": 14,
   "metadata": {},
   "outputs": [
    {
     "name": "stderr",
     "output_type": "stream",
     "text": [
      "D:\\Anaconda3\\lib\\site-packages\\pandas\\plotting\\_matplotlib\\hist.py:412: UserWarning: To output multiple subplots, the figure containing the passed axes is being cleared\n",
      "  axes = _grouped_hist(\n"
     ]
    },
    {
     "data": {
      "text/plain": [
       "array([<AxesSubplot:title={'center':'False'}>,\n",
       "       <AxesSubplot:title={'center':'True'}>], dtype=object)"
      ]
     },
     "execution_count": 14,
     "metadata": {},
     "output_type": "execute_result"
    },
    {
     "data": {
      "image/png": "[encoded data removed]",
      "text/plain": [
       "<Figure size 864x504 with 2 Axes>"
      ]
     },
     "metadata": {},
     "output_type": "display_data"
    }
   ],
   "source": [
    "# the average of ThumpsUp group and ThumpsDown group\n",
    "checkThumbsUp = itsChurn.page =='Thumbs Up'\n",
    "counColUp = count(col('page'))\n",
    "counColUp = counColUp.alias('ThumbsUps')\n",
    "thumbsUpCh = itsChurn.where(checkThumbsUp)\n",
    "thumbsUpGroup = thumbsUpCh.groupby(['churn','userId'])\n",
    "thumbsUpAgr = thumbsUpGroup.agg(counColUp)\n",
    "thumbsUpChurn = thumbsUpAgr.orderBy('churn')\n",
    "thumbsUp = thumbsUpChurn.toPandas()\n",
    "dims = (12, 7)\n",
    "fig, ax = plt.subplots(figsize=dims)\n",
    "plt.style.use('fivethirtyeight') \n",
    "thumbsUp.hist('ThumbsUps', by='churn', color = \"purple\", bins=20, ax=ax, density=5)"
   ]
  },
  {
   "cell_type": "code",
   "execution_count": 15,
   "metadata": {},
   "outputs": [
    {
     "data": {
      "text/plain": [
       "<AxesSubplot:>"
      ]
     },
     "execution_count": 15,
     "metadata": {},
     "output_type": "execute_result"
    },
    {
     "data": {
      "image/png": "[encoded data removed]",
      "text/plain": [
       "<Figure size 648x360 with 1 Axes>"
      ]
     },
     "metadata": {},
     "output_type": "display_data"
    }
   ],
   "source": [
    "# the mean of ThumbsUp for who stay and the mean of ThumbsUp for who leave\n",
    "checkStayUp = thumbsUp['churn']==False\n",
    "checkLeaveUp = thumbsUp['churn']==True\n",
    "stayUp = thumbsUp[checkStayUp]['ThumbsUps']\n",
    "leaveUp = thumbsUp[checkLeaveUp]['ThumbsUps']\n",
    "stayMeanUp = stayUp.mean()\n",
    "leaveMeanUp = leaveUp.mean()\n",
    "dims = (9, 5)\n",
    "fig, ax = plt.subplots(figsize=dims)\n",
    "plt.style.use('fivethirtyeight') \n",
    "sparkDf = pd.DataFrame({'': [\"Mean of who stay\", \"Mean of who leave\"], 'Mean': [stayMeanUp, leaveMeanUp]})\n",
    "sparkDf.plot.barh(x='', y='Mean', color='black', ax=ax)"
   ]
  },
  {
   "cell_type": "code",
   "execution_count": 16,
   "metadata": {},
   "outputs": [
    {
     "data": {
      "text/plain": [
       "<AxesSubplot:>"
      ]
     },
     "execution_count": 16,
     "metadata": {},
     "output_type": "execute_result"
    },
    {
     "data": {
      "image/png": "[encoded data removed]",
      "text/plain": [
       "<Figure size 648x360 with 1 Axes>"
      ]
     },
     "metadata": {},
     "output_type": "display_data"
    }
   ],
   "source": [
    "# the mean of ThumbsDown for who stay and the mean of ThumbsDown for who leave\n",
    "checkThumbsDown = itsChurn.page=='Thumbs Down'\n",
    "thumbsDown = itsChurn.where(checkThumbsDown)\n",
    "thumbsDown = thumbsDown.groupby(['churn','userId'])\n",
    "counColDown = count(col('page'))\n",
    "counColDown = counColDown.alias('ThumbsDowns')\n",
    "thumbsDown = thumbsDown.agg(counColDown)\n",
    "thumbsDown = thumbsDown.orderBy('churn')\n",
    "thumbsDown = thumbsDown.toPandas()\n",
    "\n",
    "checkStayDown = thumbsDown['churn']==False\n",
    "checkLeaveDown = thumbsDown['churn']==True\n",
    "stayDown = thumbsDown[checkStayDown]['ThumbsDowns']\n",
    "leaveDown = thumbsDown[checkLeaveDown]['ThumbsDowns']\n",
    "stayMeanDown = stayDown.mean()\n",
    "leaveMeanDown = leaveDown.mean()\n",
    "dims = (9, 5)\n",
    "fig, ax = plt.subplots(figsize=dims)\n",
    "plt.style.use('fivethirtyeight') \n",
    "sparkDf = pd.DataFrame({'': [\"Mean of who stay\", \"Mean of who leave\"], 'Mean': [stayMeanDown, leaveMeanDown]})\n",
    "sparkDf.plot.barh(x='', y='Mean', color='teal', ax=ax)"
   ]
  },
  {
   "cell_type": "code",
   "execution_count": 17,
   "metadata": {},
   "outputs": [],
   "source": [
    "dateDay = lambda x: datetime.datetime.fromtimestamp(x/1000)\n",
    "NextSong = lambda x : int(x=='NextSong')\n",
    "checkChurn1 = col('churn')==1\n",
    "checkChurn0 = col('churn')==0\n",
    "date = udf(dateDay, DateType())\n",
    "song = udf(NextSong, IntegerType())\n",
    "songCol = song(col('page'))\n",
    "ts = date(col('ts'))\n",
    "itsChurn = itsChurn.withColumn('date', ts)\n",
    "churn = itsChurn.filter(checkChurn1)\n",
    "churn = churn.withColumn('songPlayed', songCol)\n",
    "notChurn = itsChurn.filter(checkChurn0)\n",
    "notChurn = notChurn.withColumn('songPlayed', songCol)"
   ]
  },
  {
   "cell_type": "code",
   "execution_count": 18,
   "metadata": {},
   "outputs": [
    {
     "name": "stdout",
     "output_type": "stream",
     "text": [
      "+-----------------+\n",
      "|count(songPlayed)|\n",
      "+-----------------+\n",
      "|            44864|\n",
      "+-----------------+\n",
      "\n",
      "+-----------------+\n",
      "|count(songPlayed)|\n",
      "+-----------------+\n",
      "|           233290|\n",
      "+-----------------+\n",
      "\n"
     ]
    }
   ],
   "source": [
    "# the number of songs that played from churned users and not churned users\n",
    "countChurn = churn.agg({'songPlayed':'count'})\n",
    "countNotChurn = notChurn.agg({'songPlayed':'count'})\n",
    "countChurn.show()\n",
    "countNotChurn.show()"
   ]
  },
  {
   "cell_type": "code",
   "execution_count": 19,
   "metadata": {},
   "outputs": [
    {
     "name": "stdout",
     "output_type": "stream",
     "text": [
      "+------------------+\n",
      "|   avg(songPlayed)|\n",
      "+------------------+\n",
      "|0.8112072039942939|\n",
      "+------------------+\n",
      "\n",
      "+------------------+\n",
      "|   avg(songPlayed)|\n",
      "+------------------+\n",
      "|0.8217840456084702|\n",
      "+------------------+\n",
      "\n"
     ]
    }
   ],
   "source": [
    "# the mean of songs that played from churned users and not churned users\n",
    "meanChurn = churn.agg({'songPlayed':'mean'})\n",
    "meanNotChurn = notChurn.agg({'songPlayed':'mean'})\n",
    "meanChurn.show()\n",
    "meanNotChurn.show()"
   ]
  },
  {
   "cell_type": "code",
   "execution_count": 20,
   "metadata": {},
   "outputs": [
    {
     "name": "stdout",
     "output_type": "stream",
     "text": [
      "+-------+------------------+\n",
      "|summary|       count(page)|\n",
      "+-------+------------------+\n",
      "|  count|                31|\n",
      "|   mean| 1.032258064516129|\n",
      "| stddev|0.1796053020267749|\n",
      "|    min|                 1|\n",
      "|    max|                 2|\n",
      "+-------+------------------+\n",
      "\n"
     ]
    }
   ],
   "source": [
    "# the number of songs that are not played because of an error occurred ( churn )\n",
    "isError = itsChurn.page =='Error'\n",
    "isChurn = itsChurn.churn == 1\n",
    "cFiltPlayed = itsChurn.filter(isError & isChurn)\n",
    "cSelPlayed = cFiltPlayed.select('userId', 'page', 'ts', 'length')\n",
    "cChurnTs = cSelPlayed.withColumn('date', ts)\n",
    "cPlayedGroup = cChurnTs.groupBy('userId', 'date')\n",
    "cPlayedAgr = cPlayedGroup.agg({'page':'count'})\n",
    "cSelPlayed = cPlayedAgr.select('count(page)')\n",
    "churnPlayed = cSelPlayed.describe()\n",
    "\n",
    "churnPlayed.show()"
   ]
  },
  {
   "cell_type": "code",
   "execution_count": 21,
   "metadata": {},
   "outputs": [
    {
     "name": "stdout",
     "output_type": "stream",
     "text": [
      "+-------+------------------+\n",
      "|summary|       count(page)|\n",
      "+-------+------------------+\n",
      "|  count|               199|\n",
      "|   mean|1.1055276381909547|\n",
      "| stddev| 0.323989646283549|\n",
      "|    min|                 1|\n",
      "|    max|                 3|\n",
      "+-------+------------------+\n",
      "\n"
     ]
    }
   ],
   "source": [
    "# the number of songs that are not played because of an error occurred ( not churn )\n",
    "isNotChurn = itsChurn.churn == 0\n",
    "nFiltPlayed = itsChurn.filter(isError & isNotChurn )\n",
    "nSelPlayed = nFiltPlayed.select('userId', 'page', 'ts', 'length')\n",
    "nChurnTs = nSelPlayed.withColumn('date', date(col('ts')))\n",
    "nPlayedGroup = nChurnTs.groupBy('userId', 'date')\n",
    "nPlayedAgr = nPlayedGroup.agg({'page':'count'})\n",
    "nSelPlayed = nPlayedAgr.select('count(page)')\n",
    "notChurnPlayed = nSelPlayed.describe()\n",
    "\n",
    "notChurnPlayed.show()"
   ]
  },
  {
   "cell_type": "markdown",
   "metadata": {},
   "source": [
    "# Feature Engineering\n",
    "Once you've familiarized yourself with the data, build out the features you find promising to train your model on. To work with the full dataset, you can follow the following steps.\n",
    "- Write a script to extract the necessary features from the smaller subset of data\n",
    "- Ensure that your script is scalable, using the best practices discussed in Lesson 3\n",
    "- Try your script on the full data set, debugging your script if necessary\n",
    "\n",
    "If you are working in the classroom workspace, you can just extract features based on the small subset of data contained here. Be sure to transfer over this work to the larger dataset when you work on your Spark cluster."
   ]
  },
  {
   "cell_type": "code",
   "execution_count": 22,
   "metadata": {},
   "outputs": [],
   "source": [
    "# replace gender from (M , F) to (1 , 0)\n",
    "dupGender = itsChurn.dropDuplicates(['userId'])\n",
    "sGender = dupGender.sort('userId')\n",
    "selGender = sGender.select(['userId','gender'])\n",
    "gender = selGender.replace(['F','M'], ['1', '0'], 'gender')"
   ]
  },
  {
   "cell_type": "code",
   "execution_count": 23,
   "metadata": {},
   "outputs": [
    {
     "name": "stdout",
     "output_type": "stream",
     "text": [
      "+-------+------------------+------------------+\n",
      "|summary|            userId|            gender|\n",
      "+-------+------------------+------------------+\n",
      "|  count|               225|               225|\n",
      "|   mean|65391.013333333336|0.4622222222222222|\n",
      "| stddev|105396.47791907164|0.4996824388374477|\n",
      "|    min|                10|                 0|\n",
      "|    max|                99|                 1|\n",
      "+-------+------------------+------------------+\n",
      "\n",
      "+------+------+\n",
      "|userId|gender|\n",
      "+------+------+\n",
      "|    10|     0|\n",
      "|   100|     0|\n",
      "|100001|     1|\n",
      "|100002|     1|\n",
      "|100003|     1|\n",
      "|100004|     1|\n",
      "|100005|     0|\n",
      "|100006|     1|\n",
      "|100007|     1|\n",
      "|100008|     1|\n",
      "|100009|     0|\n",
      "|100010|     1|\n",
      "|100011|     0|\n",
      "|100012|     0|\n",
      "|100013|     1|\n",
      "|100014|     0|\n",
      "|100015|     1|\n",
      "|100016|     0|\n",
      "|100017|     0|\n",
      "|100018|     0|\n",
      "+------+------+\n",
      "only showing top 20 rows\n",
      "\n"
     ]
    }
   ],
   "source": [
    "# overview\n",
    "castGender = gender.gender.cast(\"int\")\n",
    "gender.withColumn('gender', castGender)\n",
    "gender.describe().show()\n",
    "gender.show()"
   ]
  },
  {
   "cell_type": "code",
   "execution_count": 24,
   "metadata": {},
   "outputs": [
    {
     "name": "stdout",
     "output_type": "stream",
     "text": [
      "+------+------------------+\n",
      "|userId|  registrationDays|\n",
      "+------+------------------+\n",
      "|100010| 55.64365740740741|\n",
      "|200002| 70.07462962962963|\n",
      "|   125| 71.31688657407408|\n",
      "|    51|19.455844907407407|\n",
      "|   124|131.55591435185184|\n",
      "|     7| 72.77818287037037|\n",
      "|    54|110.75168981481481|\n",
      "|    15|56.513576388888886|\n",
      "|   155|23.556018518518517|\n",
      "|   132|  66.8891087962963|\n",
      "|   154|23.872037037037035|\n",
      "|100014| 85.08340277777778|\n",
      "|   101|        53.9659375|\n",
      "|    11|124.47825231481481|\n",
      "|   138| 66.62668981481481|\n",
      "|300017| 74.35851851851852|\n",
      "|    29|60.104050925925925|\n",
      "|    69| 71.42444444444445|\n",
      "|100021| 64.73886574074074|\n",
      "|    42| 67.11364583333334|\n",
      "+------+------------------+\n",
      "only showing top 20 rows\n",
      "\n"
     ]
    }
   ],
   "source": [
    "# the total number of days beginning from registration day \n",
    "userDaygr = itsChurn.groupby(\"userId\")\n",
    "userDaymax = userDaygr.max(\"ts\")\n",
    "sUserDay = userDaymax.sort(\"userId\")\n",
    "selUserDay = itsChurn.select(\"userId\", \"registration\")\n",
    "dupuUserDay = selUserDay.dropDuplicates()\n",
    "sDupuUserDay = dupuUserDay.sort(\"userId\")\n",
    "day = sDupuUserDay.userId == sUserDay.userId\n",
    "userDays = sDupuUserDay.join(sUserDay, day)\n",
    "sub = sUserDay[\"max(ts)\"] - sDupuUserDay[\"registration\"]\n",
    "registration = sub/(1000*60*60*24)\n",
    "registrationDays = registration.alias(\"registrationDays\")\n",
    "getUser = sDupuUserDay[\"userId\"]\n",
    "userRegistration = userDays.select(getUser, registrationDays)\n",
    "\n",
    "userRegistration.show()"
   ]
  },
  {
   "cell_type": "code",
   "execution_count": 25,
   "metadata": {},
   "outputs": [
    {
     "name": "stdout",
     "output_type": "stream",
     "text": [
      "+------+-----------+\n",
      "|userId|SongsPlayed|\n",
      "+------+-----------+\n",
      "|    10|        673|\n",
      "|   100|       2682|\n",
      "|100001|        133|\n",
      "|100002|        195|\n",
      "|100003|         51|\n",
      "|100004|        942|\n",
      "|100005|        154|\n",
      "|100006|         26|\n",
      "|100007|        423|\n",
      "|100008|        772|\n",
      "|100009|        518|\n",
      "|100010|        275|\n",
      "|100011|         11|\n",
      "|100012|        476|\n",
      "|100013|       1131|\n",
      "|100014|        257|\n",
      "|100015|        800|\n",
      "|100016|        530|\n",
      "|100017|         52|\n",
      "|100018|       1002|\n",
      "+------+-----------+\n",
      "only showing top 20 rows\n",
      "\n"
     ]
    }
   ],
   "source": [
    "# the total number of song that was played\n",
    "isSong = itsChurn.song != 'null'\n",
    "countSong = count(itsChurn.song)\n",
    "songsPlayed = countSong.alias('SongsPlayed')\n",
    "songsPlayedD = itsChurn.where(isSong)\n",
    "songsPlayedGr = songsPlayedD.groupby('userId')\n",
    "songsPlayedAgr = songsPlayedGr.agg(songsPlayed)\n",
    "songsPlayedOrd = songsPlayedAgr.orderBy('userId')\n",
    "selSongsPlayed = songsPlayedOrd.select(['userId','SongsPlayed'])\n",
    "\n",
    "selSongsPlayed.show()"
   ]
  },
  {
   "cell_type": "code",
   "execution_count": 26,
   "metadata": {},
   "outputs": [
    {
     "name": "stdout",
     "output_type": "stream",
     "text": [
      "+------+------------------+\n",
      "|userId|   avgSessionSongs|\n",
      "+------+------------------+\n",
      "|    10|112.16666666666667|\n",
      "|   100| 78.88235294117646|\n",
      "|100001|             33.25|\n",
      "|100002|             48.75|\n",
      "|100003|              25.5|\n",
      "|100004|              47.1|\n",
      "|100005|              38.5|\n",
      "|100006|              26.0|\n",
      "|100007|              47.0|\n",
      "|100008|128.66666666666666|\n",
      "|100009|              51.8|\n",
      "|100010|39.285714285714285|\n",
      "|100011|              11.0|\n",
      "|100012| 79.33333333333333|\n",
      "|100013|              87.0|\n",
      "|100014|42.833333333333336|\n",
      "|100015| 66.66666666666667|\n",
      "|100016|             66.25|\n",
      "|100017|              52.0|\n",
      "|100018|              50.1|\n",
      "+------+------------------+\n",
      "only showing top 20 rows\n",
      "\n"
     ]
    }
   ],
   "source": [
    "# the total number of song for each session\n",
    "nextSong = itsChurn.page == \"NextSong\"\n",
    "songSession = itsChurn.filter(nextSong)\n",
    "songSessionGro = songSession.groupby(\"userId\", \"sessionId\")\n",
    "songSessionCount = songSessionGro.count()\n",
    "sessionSongsGro = songSessionCount.groupby(\"userId\")\n",
    "avgs = avg(songSessionCount[\"count\"])\n",
    "avgSessionSongs = avgs.alias(\"avgSessionSongs\")\n",
    "sessionSongsAgr = sessionSongsGro.agg(avgSessionSongs)\n",
    "sSessionSongs = sessionSongsAgr.sort(\"userId\")\n",
    "\n",
    "sSessionSongs.show()"
   ]
  },
  {
   "cell_type": "code",
   "execution_count": 27,
   "metadata": {},
   "outputs": [
    {
     "name": "stdout",
     "output_type": "stream",
     "text": [
      "+-------+------------------+------------------+\n",
      "|summary|            userId|      sessionCount|\n",
      "+-------+------------------+------------------+\n",
      "|  count|               225|               225|\n",
      "|   mean|65391.013333333336|14.115555555555556|\n",
      "| stddev|105396.47791907164| 14.64688465711156|\n",
      "|    min|                10|                 1|\n",
      "|    max|                99|               107|\n",
      "+-------+------------------+------------------+\n",
      "\n",
      "+------+------------+\n",
      "|userId|sessionCount|\n",
      "+------+------------+\n",
      "|    10|           6|\n",
      "|   100|          35|\n",
      "|100001|           4|\n",
      "|100002|           4|\n",
      "|100003|           2|\n",
      "|100004|          21|\n",
      "|100005|           5|\n",
      "|100006|           1|\n",
      "|100007|           9|\n",
      "|100008|           6|\n",
      "|100009|          10|\n",
      "|100010|           7|\n",
      "|100011|           1|\n",
      "|100012|           7|\n",
      "|100013|          14|\n",
      "|100014|           6|\n",
      "|100015|          12|\n",
      "|100016|           8|\n",
      "|100017|           1|\n",
      "|100018|          21|\n",
      "+------+------------+\n",
      "only showing top 20 rows\n",
      "\n"
     ]
    }
   ],
   "source": [
    "# the total number of session for each user\n",
    "userS = itsChurn.select(\"userId\", \"sessionId\")\n",
    "userSDup = userS.dropDuplicates()\n",
    "userSGro = userSDup.groupby(\"userId\")\n",
    "countUserS = userSGro.count()\n",
    "renamedSession = countUserS.withColumnRenamed(\"count\", \"sessionCount\")\n",
    "userSession = renamedSession.sort('userID')\n",
    "\n",
    "userSession.describe().show()\n",
    "userSession.show()"
   ]
  },
  {
   "cell_type": "code",
   "execution_count": 28,
   "metadata": {},
   "outputs": [
    {
     "name": "stdout",
     "output_type": "stream",
     "text": [
      "+-------+------------------+------------------+\n",
      "|summary|            userId|    avgSessionTime|\n",
      "+-------+------------------+------------------+\n",
      "|  count|               225|               225|\n",
      "|   mean|65391.013333333336| 288.1659840733498|\n",
      "| stddev|105396.47791907164|176.84244472357116|\n",
      "|    min|                10|               7.0|\n",
      "|    max|                99|            1179.9|\n",
      "+-------+------------------+------------------+\n",
      "\n",
      "+------+------------------+\n",
      "|userId|    avgSessionTime|\n",
      "+------+------------------+\n",
      "|    10|459.74722222222226|\n",
      "|   100| 316.5190476190476|\n",
      "|100001|148.15833333333333|\n",
      "|100002|201.18333333333334|\n",
      "|100003| 99.11666666666667|\n",
      "|100004|185.98650793650793|\n",
      "|100005|120.18666666666668|\n",
      "|100006| 93.43333333333334|\n",
      "|100007|189.41111111111113|\n",
      "|100008| 528.2527777777779|\n",
      "|100009|211.96166666666667|\n",
      "|100010|154.48333333333332|\n",
      "|100011| 44.38333333333333|\n",
      "|100012|271.43809523809523|\n",
      "|100013|329.99880952380954|\n",
      "|100014| 184.8138888888889|\n",
      "|100015|278.59444444444443|\n",
      "|100016|265.40416666666664|\n",
      "|100017|199.26666666666668|\n",
      "|100018|193.18730158730162|\n",
      "+------+------------------+\n",
      "only showing top 20 rows\n",
      "\n"
     ]
    }
   ],
   "source": [
    "# the average time that taken for each session\n",
    "sessionTime = itsChurn.groupby(\"userId\", \"sessionId\")\n",
    "maxTs = max(itsChurn.ts)\n",
    "minTs = min(itsChurn.ts)\n",
    "diff = maxTs - minTs\n",
    "session = diff/(1000*60)\n",
    "session = session.alias(\"sessionTime\")\n",
    "sessionTimeAgr = sessionTime.agg(session)\n",
    "sessionTimeGro = sessionTimeAgr.groupby(\"userId\")\n",
    "avg = avg(sessionTimeAgr.sessionTime)\n",
    "avgSession = avg.alias(\"avgSessionTime\")\n",
    "avgSessionTimeAgr = sessionTimeGro.agg(avgSession)\n",
    "sAvgSessionTime = avgSessionTimeAgr.sort(\"userId\")\n",
    "\n",
    "sAvgSessionTime.describe().show()\n",
    "sAvgSessionTime.show()"
   ]
  },
  {
   "cell_type": "code",
   "execution_count": 29,
   "metadata": {},
   "outputs": [
    {
     "name": "stdout",
     "output_type": "stream",
     "text": [
      "+-------+------------------+-----------------+\n",
      "|summary|            userId|  SingersListened|\n",
      "+-------+------------------+-----------------+\n",
      "|  count|               225|              225|\n",
      "|   mean|65391.013333333336|696.3777777777777|\n",
      "| stddev|105396.47791907164|603.9518698630803|\n",
      "|    min|                10|                3|\n",
      "|    max|                99|             3544|\n",
      "+-------+------------------+-----------------+\n",
      "\n",
      "+------+---------------+\n",
      "|userId|SingersListened|\n",
      "+------+---------------+\n",
      "|    10|            565|\n",
      "|   100|           1705|\n",
      "|100001|            125|\n",
      "|100002|            184|\n",
      "|100003|             50|\n",
      "|100004|            733|\n",
      "|100005|            149|\n",
      "|100006|             26|\n",
      "|100007|            357|\n",
      "|100008|            623|\n",
      "|100009|            442|\n",
      "|100010|            252|\n",
      "|100011|             11|\n",
      "|100012|            397|\n",
      "|100013|            826|\n",
      "|100014|            233|\n",
      "|100015|            627|\n",
      "|100016|            431|\n",
      "|100017|             51|\n",
      "|100018|            780|\n",
      "+------+---------------+\n",
      "only showing top 20 rows\n",
      "\n"
     ]
    }
   ],
   "source": [
    "# the number of singer that the user was listened\n",
    "singer = itsChurn.dropDuplicates(['userId','artist'])\n",
    "singerGro = singer.groupby('userId')\n",
    "nbArtist = count(itsChurn.artist)\n",
    "SingersListened = nbArtist.alias('SingersListened')\n",
    "singerAgr = singerGro.agg(SingersListened).orderBy('userId')\n",
    "singerAgr.select(['userId','SingersListened'])\n",
    "\n",
    "singerAgr.describe().show()\n",
    "singerAgr.show()"
   ]
  },
  {
   "cell_type": "code",
   "execution_count": 30,
   "metadata": {},
   "outputs": [
    {
     "name": "stdout",
     "output_type": "stream",
     "text": [
      "+-------+------------------+------------------+\n",
      "|summary|            userId|        numFriends|\n",
      "+-------+------------------+------------------+\n",
      "|  count|               206|               206|\n",
      "|   mean| 66076.91262135922|20.762135922330096|\n",
      "| stddev|106860.60517425009| 20.64677907440501|\n",
      "|    min|                10|                 1|\n",
      "|    max|                99|               143|\n",
      "+-------+------------------+------------------+\n",
      "\n",
      "+------+----------+\n",
      "|userId|numFriends|\n",
      "+------+----------+\n",
      "|    10|        12|\n",
      "|   100|        49|\n",
      "|100001|         2|\n",
      "|100002|         1|\n",
      "|100004|        19|\n",
      "|100005|         3|\n",
      "|100006|         4|\n",
      "|100007|        17|\n",
      "|100008|        17|\n",
      "|100009|         7|\n",
      "|100010|         4|\n",
      "|100012|         2|\n",
      "|100013|        28|\n",
      "|100014|         6|\n",
      "|100015|        14|\n",
      "|100016|        13|\n",
      "|100018|        23|\n",
      "|100019|         2|\n",
      "|100021|         7|\n",
      "|100022|        11|\n",
      "+------+----------+\n",
      "only showing top 20 rows\n",
      "\n"
     ]
    }
   ],
   "source": [
    "# the total Number of friends for each user\n",
    "isFriend = itsChurn.page=='Add Friend'\n",
    "userFriend = itsChurn.filter(isFriend)\n",
    "selUserFriend = userFriend.select('userId', 'page')\n",
    "userFriendGro = selUserFriend.groupBy('userId')\n",
    "countUserFriend = userFriendGro.count()\n",
    "renamedCountFriend = countUserFriend.withColumnRenamed('count', 'numFriends')\n",
    "friends = renamedCountFriend.sort('userId')\n",
    "\n",
    "friends.describe().show()\n",
    "friends.show()"
   ]
  },
  {
   "cell_type": "markdown",
   "metadata": {},
   "source": [
    "# Modeling\n",
    "Split the full dataset into train, test, and validation sets. Test out several of the machine learning methods you learned. Evaluate the accuracy of the various models, tuning parameters as necessary. Determine your winning model based on test accuracy and report results on the validation set. Since the churned users are a fairly small subset, I suggest using F1 score as the metric to optimize."
   ]
  },
  {
   "cell_type": "code",
   "execution_count": 31,
   "metadata": {},
   "outputs": [
    {
     "data": {
      "text/plain": [
       "<AxesSubplot:xlabel='churn', ylabel='count'>"
      ]
     },
     "execution_count": 31,
     "metadata": {},
     "output_type": "execute_result"
    },
    {
     "data": {
      "image/png": "[encoded data removed]",
      "text/plain": [
       "<Figure size 720x504 with 1 Axes>"
      ]
     },
     "metadata": {},
     "output_type": "display_data"
    }
   ],
   "source": [
    "# the total number of churn and not churn\n",
    "users = itsChurn.dropDuplicates(['userId'])\n",
    "sUsers = users.sort('userId')\n",
    "selUsers = sUsers.select(['userId','churn'])\n",
    "\n",
    "for x in [gender, userRegistration, selSongsPlayed, sAvgSessionTime, singerAgr, sSessionSongs, userSession, friends]:\n",
    "    selUsers = selUsers.join(x,'userId')\n",
    "    \n",
    "usersGro = selUsers.groupby(\"churn\")\n",
    "countUsers = usersGro.count()\n",
    "userz = countUsers.toPandas()\n",
    "dims = (10, 7)\n",
    "fig, ax = plt.subplots(figsize=dims)\n",
    "plt.style.use('fivethirtyeight') \n",
    "sns.barplot(x=\"churn\", y=\"count\", ax=ax, data=userz)"
   ]
  },
  {
   "cell_type": "code",
   "execution_count": 32,
   "metadata": {},
   "outputs": [
    {
     "data": {
      "text/plain": [
       "[('userId', 'string'),\n",
       " ('churn', 'boolean'),\n",
       " ('gender', 'string'),\n",
       " ('registrationDays', 'double'),\n",
       " ('SongsPlayed', 'bigint'),\n",
       " ('avgSessionTime', 'double'),\n",
       " ('SingersListened', 'bigint'),\n",
       " ('avgSessionSongs', 'double'),\n",
       " ('sessionCount', 'bigint'),\n",
       " ('numFriends', 'bigint')]"
      ]
     },
     "execution_count": 32,
     "metadata": {},
     "output_type": "execute_result"
    }
   ],
   "source": [
    "# data types\n",
    "selUsers.dtypes"
   ]
  },
  {
   "cell_type": "code",
   "execution_count": 33,
   "metadata": {},
   "outputs": [
    {
     "data": {
      "text/plain": [
       "DataFrame[summary: string, userId: string, gender: string, registrationDays: string, SongsPlayed: string, avgSessionTime: string, SingersListened: string, avgSessionSongs: string, sessionCount: string, numFriends: string]"
      ]
     },
     "execution_count": 33,
     "metadata": {},
     "output_type": "execute_result"
    }
   ],
   "source": [
    "# general details\n",
    "selUsers.describe()"
   ]
  },
  {
   "cell_type": "code",
   "execution_count": 34,
   "metadata": {},
   "outputs": [
    {
     "name": "stdout",
     "output_type": "stream",
     "text": [
      "+------+-----+------+------------------+-----------+------------------+---------------+------------------+------------+----------+\n",
      "|userId|churn|gender|  registrationDays|SongsPlayed|    avgSessionTime|SingersListened|   avgSessionSongs|sessionCount|numFriends|\n",
      "+------+-----+------+------------------+-----------+------------------+---------------+------------------+------------+----------+\n",
      "|    10|false|     0| 51.76265046296297|        673|459.74722222222226|            565|112.16666666666667|           6|        12|\n",
      "|   100|false|     0| 64.87377314814815|       2682| 316.5190476190476|           1705| 78.88235294117646|          35|        49|\n",
      "|100001| true|     1| 44.80021990740741|        133|148.15833333333333|            125|             33.25|           4|         2|\n",
      "|100002|false|     1|160.47207175925925|        195|201.18333333333334|            184|             48.75|           4|         1|\n",
      "|100004|false|     1|172.44008101851853|        942|185.98650793650793|            733|              47.1|          21|        19|\n",
      "+------+-----+------+------------------+-----------+------------------+---------------+------------------+------------+----------+\n",
      "only showing top 5 rows\n",
      "\n"
     ]
    }
   ],
   "source": [
    "# show the data\n",
    "selUsers.show(5)"
   ]
  },
  {
   "cell_type": "code",
   "execution_count": 35,
   "metadata": {},
   "outputs": [],
   "source": [
    "features = selUsers.columns[1:]\n",
    "for x in features:\n",
    "    name = x + \"Num\"\n",
    "    selUsers = selUsers.withColumn(name, selUsers[x].cast(\"float\"))\n",
    "    selUsers = selUsers.drop(x)"
   ]
  },
  {
   "cell_type": "code",
   "execution_count": 36,
   "metadata": {},
   "outputs": [],
   "source": [
    "# transforming, selecting features and scale\n",
    "cols = selUsers.columns[2:]\n",
    "VA = VectorAssembler(inputCols = cols, outputCol=\"NumFeatures\")\n",
    "resultsDF = VA.transform(selUsers)\n",
    "SS = StandardScaler(inputCol=\"NumFeatures\", outputCol=\"ScaledNumFeatures\", withStd=True)\n",
    "sModel = SS.fit(resultsDF)\n",
    "results = sModel.transform(resultsDF)\n",
    "label = results.churnNum.alias(\"label\")\n",
    "features = results.ScaledNumFeatures.alias(\"features\")\n",
    "results = results.select(label, features)"
   ]
  },
  {
   "cell_type": "code",
   "execution_count": 37,
   "metadata": {},
   "outputs": [],
   "source": [
    "# split data randomlay then use sampleBy to returns stratified sample without replacement by the fraction\n",
    "fraction = {0: 99/349, 1: 1.0}\n",
    "rang = [0.9, 0.1]\n",
    "train, validation = results.randomSplit(rang, seed=42)\n",
    "train = train.cache()\n",
    "sTrain = train.sampleBy('label', fractions=fraction)\n",
    "sTrain = sTrain.cache()"
   ]
  },
  {
   "cell_type": "code",
   "execution_count": 38,
   "metadata": {},
   "outputs": [
    {
     "data": {
      "text/plain": [
       "LogisticRegressionModel: uid=LogisticRegression_7fdc81d10916, numClasses=2, numFeatures=8"
      ]
     },
     "execution_count": 38,
     "metadata": {},
     "output_type": "execute_result"
    }
   ],
   "source": [
    "# create LogisticRegression model and build ParamGrid then use cross validation\n",
    "log_model =  LogisticRegression()\n",
    "param = ParamGridBuilder()\n",
    "addGrid = param.addGrid(log_model.elasticNetParam,[0.0, 0.1, 0.5, 1.0])\n",
    "builder = addGrid.addGrid(log_model.regParam,[0.0, 0.05, 0.1])\n",
    "builder = builder.build()\n",
    "cValidation = CrossValidator(estimator = log_model, estimatorParamMaps = builder, \n",
    "                          evaluator= MulticlassClassificationEvaluator(), numFolds = 3)\n",
    "log_model = cValidation.fit(sTrain)\n",
    "\n",
    "log_model.bestModel"
   ]
  },
  {
   "cell_type": "code",
   "execution_count": 39,
   "metadata": {},
   "outputs": [
    {
     "name": "stdout",
     "output_type": "stream",
     "text": [
      "Precision: 0.5\n",
      "Recall: 0.5\n",
      "Accuracy: 0.7142857142857143\n",
      "F1-score: 0.5\n"
     ]
    }
   ],
   "source": [
    "# the results by using Accuracy, Precision, Recall, and F1-score\n",
    "trans = log_model.transform(validation)\n",
    "truePositive = trans.filter(\"label = 1 and prediction = 1\")\n",
    "truePositive = truePositive.count()\n",
    "falsePositive = trans.filter(\"label = 0 and prediction = 1\")\n",
    "falsePositive = falsePositive.count()\n",
    "falseNegative = trans.filter(\"label = 1 and prediction = 0\")\n",
    "falseNegative = falseNegative.count()\n",
    "trueNegative = trans.filter(\"label = 0 and prediction = 0\")\n",
    "trueNegative = trueNegative.count()\n",
    "\n",
    "precision = truePositive / (truePositive + falseNegative) \n",
    "print(\"Precision:\", precision)\n",
    "\n",
    "recall = truePositive / (truePositive + falseNegative)\n",
    "print(\"Recall:\", recall)\n",
    "\n",
    "accuracy = (truePositive + trueNegative) / (truePositive + falsePositive + trueNegative + falseNegative)\n",
    "print(\"Accuracy:\", accuracy)\n",
    "\n",
    "f1_score = 2*precision*recall / ( precision + recall)\n",
    "print(\"F1-score:\", f1_score)"
   ]
  },
  {
   "cell_type": "code",
   "execution_count": 40,
   "metadata": {},
   "outputs": [
    {
     "data": {
      "text/plain": [
       "DecisionTreeClassificationModel: uid=DecisionTreeClassifier_9587b1d635fa, depth=2, numNodes=5, numClasses=2, numFeatures=8"
      ]
     },
     "execution_count": 40,
     "metadata": {},
     "output_type": "execute_result"
    }
   ],
   "source": [
    "# create Decision Tree model and build ParamGrid then use cross validation\n",
    "dTree = DecisionTreeClassifier()\n",
    "param = ParamGridBuilder()\n",
    "addGrid = param.addGrid(dTree.impurity,['entropy', 'gini'])\n",
    "builder = addGrid.addGrid(dTree.maxDepth,[2, 3, 4, 5, 6, 7, 8])\n",
    "builder = builder.build()\n",
    "cValidation = CrossValidator(estimator = dTree, estimatorParamMaps = builder,\n",
    "                          evaluator = MulticlassClassificationEvaluator(), numFolds = 3)\n",
    "dTree_model = cValidation.fit(train)\n",
    "\n",
    "dTree_model.bestModel"
   ]
  },
  {
   "cell_type": "code",
   "execution_count": 41,
   "metadata": {},
   "outputs": [
    {
     "name": "stdout",
     "output_type": "stream",
     "text": [
      "Precision: 0.5\n",
      "Recall: 0.5\n",
      "Accuracy: 0.7142857142857143\n",
      "F1-score: 0.5\n"
     ]
    }
   ],
   "source": [
    "# the results by using Accuracy, Precision, Recall, and F1-score\n",
    "trans = log_model.transform(validation)\n",
    "truePositive = trans.filter(\"label = 1 and prediction = 1\")\n",
    "truePositive = truePositive.count()\n",
    "falsePositive = trans.filter(\"label = 0 and prediction = 1\")\n",
    "falsePositive = falsePositive.count()\n",
    "falseNegative = trans.filter(\"label = 1 and prediction = 0\")\n",
    "falseNegative = falseNegative.count()\n",
    "trueNegative = trans.filter(\"label = 0 and prediction = 0\")\n",
    "trueNegative = trueNegative.count()\n",
    "\n",
    "precision = truePositive / (truePositive + falseNegative) \n",
    "print(\"Precision:\", precision)\n",
    "\n",
    "recall = truePositive / (truePositive + falseNegative)\n",
    "print(\"Recall:\", recall)\n",
    "\n",
    "accuracy = (truePositive + trueNegative) / (truePositive + falsePositive + trueNegative + falseNegative)\n",
    "print(\"Accuracy:\", accuracy)\n",
    "\n",
    "f1_score = 2*precision*recall / ( precision + recall)\n",
    "print(\"F1-score:\", f1_score)"
   ]
  },
  {
   "cell_type": "markdown",
   "metadata": {},
   "source": [
    "# Final Steps\n",
    "Clean up your code, adding comments and renaming variables to make the code easier to read and maintain. Refer to the Spark Project Overview page and Data Scientist Capstone Project Rubric to make sure you are including all components of the capstone project and meet all expectations. Remember, this includes thorough documentation in a README file in a Github repository, as well as a web app or blog post."
   ]
  }
 ],
 "metadata": {
  "kernelspec": {
   "display_name": "Python 3",
   "language": "python",
   "name": "python3"
  },
  "language_info": {
   "codemirror_mode": {
    "name": "ipython",
    "version": 3
   },
   "file_extension": ".py",
   "mimetype": "text/x-python",
   "name": "python",
   "nbconvert_exporter": "python",
   "pygments_lexer": "ipython3",
   "version": "3.8.8"
  }
 },
 "nbformat": 4,
 "nbformat_minor": 2
}
